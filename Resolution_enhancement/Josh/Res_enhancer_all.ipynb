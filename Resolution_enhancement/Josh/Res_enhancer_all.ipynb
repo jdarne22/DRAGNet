{
 "cells": [
  {
   "cell_type": "code",
   "execution_count": 1,
   "metadata": {},
   "outputs": [],
   "source": [
    "import matplotlib.pyplot as plt\n",
    "import numpy as np\n",
    "from lo.sdk.api.acquisition.data.decode import SpectralDecoder\n",
    "from res_enhance import run_resolution_enhancement\n",
    "import glob\n",
    "import os\n",
    "from collections import defaultdict\n",
    "import spectral"
   ]
  },
  {
   "cell_type": "code",
   "execution_count": 2,
   "metadata": {},
   "outputs": [],
   "source": [
    "def get_rgb_wavelength_indices(wavelengths):\n",
    "            \"\"\"Returns RGB wavelength indices, corresponding to cone response\n",
    "            from wavelengths in nm.\n",
    "\n",
    "            \"A wide range of colors can be obtained by mixing different amounts of red, green\n",
    "            and blue light (additive color mixing). A possible combination of wavelengths is\n",
    "            630 nm for red, 532 nm for green, and 465 nm for blue light.\"\n",
    "            Source: https://www.rp-photonics.com/rgb_sources.html\n",
    "\n",
    "            Args:\n",
    "                wavelengths (np.ndarray): wavelengths array in nm shape (C).\n",
    "\n",
    "            Returns:\n",
    "                RGB Band (np.ndarray): List of RGB bands indices (in that order)\n",
    "                closest to wavelengths specified.\n",
    "            \"\"\"\n",
    "            return np.asarray([np.argmin(np.abs(wavelengths - i)) for i in [630, 532, 465]])"
   ]
  },
  {
   "cell_type": "code",
   "execution_count": 3,
   "metadata": {},
   "outputs": [
    {
     "name": "stdout",
     "output_type": "stream",
     "text": [
      "defaultdict(<class 'list'>, {'2024_06_25': [['/Volumes/LaCie/Living_Optics_hyperspec_Josh/Wytham_raw_data/2024_06_25/BLOCK_A/DIST', '/Volumes/LaCie/Living_Optics_hyperspec_Josh/Wytham_raw_data/2024_06_25/BLOCK_A/NPK_DIST', '/Volumes/LaCie/Living_Optics_hyperspec_Josh/Wytham_raw_data/2024_06_25/BLOCK_A/CONTROL']], '2024_06_26': [['/Volumes/LaCie/Living_Optics_hyperspec_Josh/Wytham_raw_data/2024_06_26/BLOCK_A/NPK', '/Volumes/LaCie/Living_Optics_hyperspec_Josh/Wytham_raw_data/2024_06_26/BLOCK_A/NPK_CESS'], ['/Volumes/LaCie/Living_Optics_hyperspec_Josh/Wytham_raw_data/2024_06_26/BLOCK_B/NPK_DIST', '/Volumes/LaCie/Living_Optics_hyperspec_Josh/Wytham_raw_data/2024_06_26/BLOCK_B/DIST'], ['/Volumes/LaCie/Living_Optics_hyperspec_Josh/Wytham_raw_data/2024_06_26/BLOCK_D/NPK_DIST', '/Volumes/LaCie/Living_Optics_hyperspec_Josh/Wytham_raw_data/2024_06_26/BLOCK_D/DIST']], '2024_06_27': [['/Volumes/LaCie/Living_Optics_hyperspec_Josh/Wytham_raw_data/2024_06_27/BLOCK_C/NPK_DIST'], ['/Volumes/LaCie/Living_Optics_hyperspec_Josh/Wytham_raw_data/2024_06_27/BLOCK_B/NPK_CESS', '/Volumes/LaCie/Living_Optics_hyperspec_Josh/Wytham_raw_data/2024_06_27/BLOCK_B/NPK', '/Volumes/LaCie/Living_Optics_hyperspec_Josh/Wytham_raw_data/2024_06_27/BLOCK_B/CONTROL']]})\n",
      "defaultdict(<class 'list'>, {'2024_06_25': [['/Volumes/LaCie/Living_Optics_hyperspec_Josh/Wytham_raw_data/2024_06_25/BLOCK_A/DIST', '/Volumes/LaCie/Living_Optics_hyperspec_Josh/Wytham_raw_data/2024_06_25/BLOCK_A/NPK_DIST', '/Volumes/LaCie/Living_Optics_hyperspec_Josh/Wytham_raw_data/2024_06_25/BLOCK_A/CONTROL']], '2024_06_26': [['/Volumes/LaCie/Living_Optics_hyperspec_Josh/Wytham_raw_data/2024_06_26/BLOCK_A/NPK', '/Volumes/LaCie/Living_Optics_hyperspec_Josh/Wytham_raw_data/2024_06_26/BLOCK_A/NPK_CESS'], ['/Volumes/LaCie/Living_Optics_hyperspec_Josh/Wytham_raw_data/2024_06_26/BLOCK_B/NPK_DIST', '/Volumes/LaCie/Living_Optics_hyperspec_Josh/Wytham_raw_data/2024_06_26/BLOCK_B/DIST'], ['/Volumes/LaCie/Living_Optics_hyperspec_Josh/Wytham_raw_data/2024_06_26/BLOCK_D/NPK_DIST', '/Volumes/LaCie/Living_Optics_hyperspec_Josh/Wytham_raw_data/2024_06_26/BLOCK_D/DIST']], '2024_06_27': [['/Volumes/LaCie/Living_Optics_hyperspec_Josh/Wytham_raw_data/2024_06_27/BLOCK_C/NPK_DIST'], ['/Volumes/LaCie/Living_Optics_hyperspec_Josh/Wytham_raw_data/2024_06_27/BLOCK_B/NPK_CESS', '/Volumes/LaCie/Living_Optics_hyperspec_Josh/Wytham_raw_data/2024_06_27/BLOCK_B/NPK', '/Volumes/LaCie/Living_Optics_hyperspec_Josh/Wytham_raw_data/2024_06_27/BLOCK_B/CONTROL']]})\n"
     ]
    }
   ],
   "source": [
    "directory = '/Volumes/LaCie/Living_Optics_hyperspec_Josh/Wytham_raw_data/'\n",
    "\n",
    "factory_cali = os.path.expanduser('~/Desktop/Rachael_DRAGNet_Project/Metadata/LO1_calibration_files/8_5mm')\n",
    "\n",
    "date_file = glob.glob(directory + '*')\n",
    "\n",
    "data_folders = defaultdict(list)\n",
    "\n",
    "\n",
    "for i in date_file:\n",
    "    label = i.split('/')[-1]\n",
    "    blocks = glob.glob(i + '/*BLOCK*')\n",
    "    \n",
    "    for j in blocks:\n",
    "        treatments = glob.glob(j + '/*')\n",
    "        data_folders[label].append(treatments)\n",
    "\n",
    "#pop from data folder so it doesnt overload the output\n",
    "print(data_folders)\n",
    "#pop here\n",
    "print(data_folders)"
   ]
  },
  {
   "cell_type": "code",
   "execution_count": 6,
   "metadata": {},
   "outputs": [
    {
     "name": "stdout",
     "output_type": "stream",
     "text": [
      "Running resolution enhancement in homography mode.\n",
      "Total number of frames in the file: 1\n"
     ]
    },
    {
     "name": "stderr",
     "output_type": "stream",
     "text": [
      "100%|██████████| 1/1 [00:00<00:00,  2.09it/s]\n"
     ]
    },
    {
     "name": "stdout",
     "output_type": "stream",
     "text": [
      "2024_06_25/BLOCK_A/DIST\n",
      "/Volumes/LaCie/Living_Optics_hyperspec_Josh/Wytham_raw_data/Enhanced_images/2024_06_25/BLOCK_A/DIST\n"
     ]
    },
    {
     "ename": "KeyboardInterrupt",
     "evalue": "",
     "output_type": "error",
     "traceback": [
      "\u001b[0;31m---------------------------------------------------------------------------\u001b[0m",
      "\u001b[0;31mKeyboardInterrupt\u001b[0m                         Traceback (most recent call last)",
      "Cell \u001b[0;32mIn[6], line 37\u001b[0m\n\u001b[1;32m     34\u001b[0m base_name \u001b[38;5;241m=\u001b[39m image\u001b[38;5;241m.\u001b[39msplit(\u001b[38;5;124m'\u001b[39m\u001b[38;5;124m/\u001b[39m\u001b[38;5;124m'\u001b[39m)[\u001b[38;5;241m-\u001b[39m\u001b[38;5;241m1\u001b[39m]\u001b[38;5;241m.\u001b[39msplit(\u001b[38;5;124m'\u001b[39m\u001b[38;5;124m.\u001b[39m\u001b[38;5;124m'\u001b[39m)[\u001b[38;5;241m0\u001b[39m]\n\u001b[1;32m     36\u001b[0m header_file \u001b[38;5;241m=\u001b[39m os\u001b[38;5;241m.\u001b[39mpath\u001b[38;5;241m.\u001b[39mjoin(writing_filepath, base_name \u001b[38;5;241m+\u001b[39m \u001b[38;5;124m'\u001b[39m\u001b[38;5;124m.hdr\u001b[39m\u001b[38;5;124m'\u001b[39m)\n\u001b[0;32m---> 37\u001b[0m \u001b[43mspectral\u001b[49m\u001b[38;5;241;43m.\u001b[39;49m\u001b[43menvi\u001b[49m\u001b[38;5;241;43m.\u001b[39;49m\u001b[43msave_image\u001b[49m\u001b[43m(\u001b[49m\u001b[43mheader_file\u001b[49m\u001b[43m,\u001b[49m\u001b[43m \u001b[49m\u001b[43mim\u001b[49m\u001b[43m,\u001b[49m\u001b[43m \u001b[49m\u001b[43minterleave\u001b[49m\u001b[38;5;241;43m=\u001b[39;49m\u001b[38;5;124;43m'\u001b[39;49m\u001b[38;5;124;43mbil\u001b[39;49m\u001b[38;5;124;43m'\u001b[39;49m\u001b[43m,\u001b[49m\u001b[43m \u001b[49m\u001b[43mdtype\u001b[49m\u001b[38;5;241;43m=\u001b[39;49m\u001b[43mnp\u001b[49m\u001b[38;5;241;43m.\u001b[39;49m\u001b[43mfloat32\u001b[49m\u001b[43m,\u001b[49m\u001b[43m \u001b[49m\u001b[43mforce\u001b[49m\u001b[38;5;241;43m=\u001b[39;49m\u001b[38;5;28;43;01mTrue\u001b[39;49;00m\u001b[43m)\u001b[49m\n\u001b[1;32m     39\u001b[0m np\u001b[38;5;241m.\u001b[39msave(os\u001b[38;5;241m.\u001b[39mpath\u001b[38;5;241m.\u001b[39mjoin(writing_filepath, base_name \u001b[38;5;241m+\u001b[39m \u001b[38;5;124m\"\u001b[39m\u001b[38;5;124m-enhanced.npy\u001b[39m\u001b[38;5;124m\"\u001b[39m),im)\n",
      "File \u001b[0;32m~/Desktop/Rachael_DRAGNet_Project/venv/lib/python3.11/site-packages/spectral/io/envi.py:455\u001b[0m, in \u001b[0;36msave_image\u001b[0;34m(hdr_file, image, **kwargs)\u001b[0m\n\u001b[1;32m    453\u001b[0m data, metadata \u001b[38;5;241m=\u001b[39m _prepared_data_and_metadata(hdr_file, image, \u001b[38;5;241m*\u001b[39m\u001b[38;5;241m*\u001b[39mkwargs)\n\u001b[1;32m    454\u001b[0m metadata[\u001b[38;5;124m'\u001b[39m\u001b[38;5;124mfile type\u001b[39m\u001b[38;5;124m'\u001b[39m] \u001b[38;5;241m=\u001b[39m \u001b[38;5;124m\"\u001b[39m\u001b[38;5;124mENVI Standard\u001b[39m\u001b[38;5;124m\"\u001b[39m\n\u001b[0;32m--> 455\u001b[0m \u001b[43m_write_image\u001b[49m\u001b[43m(\u001b[49m\u001b[43mhdr_file\u001b[49m\u001b[43m,\u001b[49m\u001b[43m \u001b[49m\u001b[43mdata\u001b[49m\u001b[43m,\u001b[49m\u001b[43m \u001b[49m\u001b[43mmetadata\u001b[49m\u001b[43m,\u001b[49m\u001b[43m \u001b[49m\u001b[38;5;241;43m*\u001b[39;49m\u001b[38;5;241;43m*\u001b[39;49m\u001b[43mkwargs\u001b[49m\u001b[43m)\u001b[49m\n",
      "File \u001b[0;32m~/Desktop/Rachael_DRAGNet_Project/venv/lib/python3.11/site-packages/spectral/io/envi.py:685\u001b[0m, in \u001b[0;36m_write_image\u001b[0;34m(hdr_file, data, header, **kwargs)\u001b[0m\n\u001b[1;32m    683\u001b[0m fout \u001b[38;5;241m=\u001b[39m builtins\u001b[38;5;241m.\u001b[39mopen(img_file, \u001b[38;5;124m'\u001b[39m\u001b[38;5;124mwb\u001b[39m\u001b[38;5;124m'\u001b[39m, bufsize)\n\u001b[1;32m    684\u001b[0m fout\u001b[38;5;241m.\u001b[39mwrite(tobytes(data))\n\u001b[0;32m--> 685\u001b[0m \u001b[43mfout\u001b[49m\u001b[38;5;241;43m.\u001b[39;49m\u001b[43mclose\u001b[49m\u001b[43m(\u001b[49m\u001b[43m)\u001b[49m\n",
      "\u001b[0;31mKeyboardInterrupt\u001b[0m: "
     ]
    }
   ],
   "source": [
    "for date in data_folders:\n",
    "    blocks = data_folders[date]\n",
    "    for block in blocks:\n",
    "        for treatment in block:\n",
    "            calibration = glob.glob(treatment + '/Calibration/*.loraw')\n",
    "            decode = SpectralDecoder.from_calibration(factory_cali, calibration[0])\n",
    "            images = glob.glob(treatment + '/Data/*.loraw')\n",
    "            for image in images:\n",
    "                im, scene_view, middle_view = run_resolution_enhancement(image, decode, 'all', 3)\n",
    "\n",
    "                rgb_idx = get_rgb_wavelength_indices(decode.calibration.wavelengths)\n",
    "                values = im[:, :, rgb_idx] / im[:, :, rgb_idx].max()\n",
    "\n",
    "                rgb_idx = get_rgb_wavelength_indices(decode.calibration.wavelengths)\n",
    "\n",
    "                fig, ax = plt.subplots(1, 3, figsize=(20, 10))\n",
    "                ax[0].imshow(scene_view)\n",
    "                ax[0].set_title(\"Scene view, first frame\")\n",
    "                ax[1].imshow(middle_view[:, :, rgb_idx] / middle_view[:, :, rgb_idx].max())\n",
    "                ax[1].set_title(\"Single shot upsampled, first frame\")\n",
    "                ax[2].imshow(values)\n",
    "                ax[2].set_title(\"Resolution enhanced\")\n",
    "\n",
    "                #plt.show()\n",
    "                fig.savefig(directory + 'Enhanced_images/' + '/'.join(treatment.split('/')[-3:]) + '/' + image.split('/')[-1].split('.')[0] + '-enhanced.png')\n",
    "                plt.close(fig)\n",
    "\n",
    "                writing_filepath = directory + 'Enhanced_images/' + treatment.split('/')[-3] + '/' + treatment.split('/')[-2] + '/' + treatment.split('/')[-1] \n",
    "                print(writing_filepath)\n",
    "\n",
    "\n",
    "\n",
    "                base_name = image.split('/')[-1].split('.')[0]\n",
    "\n",
    "                header_file = os.path.join(writing_filepath, base_name + '.hdr')\n",
    "                spectral.envi.save_image(header_file, im, interleave='bil', dtype=np.float32, force=True)\n",
    "\n",
    "                np.save(os.path.join(writing_filepath, base_name + \"-enhanced.npy\"),im)"
   ]
  },
  {
   "cell_type": "code",
   "execution_count": null,
   "metadata": {},
   "outputs": [
    {
     "name": "stdout",
     "output_type": "stream",
     "text": [
      "\tData Source:   '/Volumes/LaCie/Living_Optics_hyperspec_Josh/Wytham_raw_data/Enhanced_images/2024_06_25/BLOCK_A/NPK_DIST/20240625-110404-743335-single.img'\n",
      "\t# Rows:            637\n",
      "\t# Samples:         635\n",
      "\t# Bands:             3\n",
      "\tInterleave:        BIP\n",
      "\tQuantization:   8 bits\n",
      "\tData format:     uint8\n"
     ]
    }
   ],
   "source": [
    "import  spectral.io.envi as envi\n",
    "\n",
    "dir = '/Volumes/LaCie/Living_Optics_hyperspec_Josh/Wytham_raw_data/Enhanced_images/2024_06_25/BLOCK_A/NPK_DIST/'\n",
    "\n",
    "img = envi.open(dir + '20240625-110404-743335-single.hdr', dir + '20240625-110404-743335-single.img')\n",
    "\n",
    "print(img)"
   ]
  },
  {
   "cell_type": "code",
   "execution_count": null,
   "metadata": {},
   "outputs": [],
   "source": []
  }
 ],
 "metadata": {
  "kernelspec": {
   "display_name": "venv",
   "language": "python",
   "name": "python3"
  },
  "language_info": {
   "codemirror_mode": {
    "name": "ipython",
    "version": 3
   },
   "file_extension": ".py",
   "mimetype": "text/x-python",
   "name": "python",
   "nbconvert_exporter": "python",
   "pygments_lexer": "ipython3",
   "version": "3.11.9"
  }
 },
 "nbformat": 4,
 "nbformat_minor": 2
}
