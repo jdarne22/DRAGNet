{
 "cells": [
  {
   "cell_type": "code",
   "execution_count": null,
   "metadata": {},
   "outputs": [],
   "source": [
    "import pandas as pd\n",
    "import numpy as np\n",
    "import os\n",
    "import glob\n",
    "import matplotlib.pyplot as plt\n",
    "from collections import defaultdict"
   ]
  },
  {
   "cell_type": "code",
   "execution_count": null,
   "metadata": {},
   "outputs": [],
   "source": [
    "from lo.sdk.api.acquisition.io.open import open\n",
    "from lo.sdk.api.acquisition.data.decode import SpectralDecoder\n",
    "from lo.sdk.api.acquisition.data.formats import LORAWtoRGB8"
   ]
  },
  {
   "cell_type": "code",
   "execution_count": null,
   "metadata": {},
   "outputs": [],
   "source": [
    "directory = '/Volumes/LaCie/Living_Optics_hyperspec_Josh/Wytham_raw_data/'\n",
    "\n",
    "factory_cali = os.path.expanduser('~/Desktop/Rachael_DRAGNet_Project/Metadata/LO1_calibration_files/8_5mm')\n",
    "\n",
    "date_file = glob.glob(directory + '*')\n"
   ]
  },
  {
   "cell_type": "code",
   "execution_count": null,
   "metadata": {},
   "outputs": [],
   "source": [
    "data_folders = defaultdict(list)\n",
    "\n",
    "\n",
    "for i in date_file:\n",
    "    label = i.split('/')[-1]\n",
    "    blocks = glob.glob(i + '/*BLOCK*')\n",
    "    \n",
    "    for j in blocks:\n",
    "        treatments = glob.glob(j + '/*')\n",
    "        data_folders[label].append(treatments)\n",
    "\n",
    "\n",
    "print(data_folders)\n",
    "\n",
    "excel = pd.read_csv('/Volumes/LaCie/Living_Optics_hyperspec_Josh/RT_hyperspectral_data_log_2024.csv', nrows=50)\n",
    "weather_excel = excel['Weather']\n",
    "date_excel = excel[excel.columns[1]].values\n",
    "treatment_excel = excel['Treatment']\n",
    "\n",
    "\n"
   ]
  },
  {
   "cell_type": "code",
   "execution_count": null,
   "metadata": {},
   "outputs": [],
   "source": [
    "metadata_dict = defaultdict(list)\n",
    "\n",
    "for date in data_folders:\n",
    "    blocks = data_folders[date]\n",
    "    for block in blocks:\n",
    "        for treatment in block:\n",
    "            calibration = glob.glob(treatment + '/Calibration/*.loraw')\n",
    "            decode = SpectralDecoder.from_calibration(factory_cali, calibration[0])\n",
    "            images = glob.glob(treatment + '/Data/*.loraw')\n",
    "            for image in images:\n",
    "                with open(image, mode='r') as f:\n",
    "                    for frame in f:\n",
    "                        metadata, scene_view, spectra = decode(frame, scene_decoder=LORAWtoRGB8)\n",
    "                        date = image.split('/')[-5].replace('_','/')\n",
    "                        metadata_dict['Site'].append(image.split('/')[4].split('_')[0])\n",
    "                        metadata_dict['Date'].append(date)\n",
    "                        metadata_dict['Block'].append(image.split('/')[-4].split('_')[-1])\n",
    "                        treatment = image.split('/')[-3]\n",
    "                        metadata_dict['Treatment'].append(treatment)\n",
    "                        if date == '2024/06/25' and treatment == 'NPK_DIST':\n",
    "                            time = image.split('/')[-1].split('-')[1]\n",
    "                        else:\n",
    "                            time = image.split('/')[-1].split('-')[2]\n",
    "                        metadata_dict['Time'].append(time[:2] + ':' + time[2:4] + ':' + time[4:6])\n",
    "                        found = False\n",
    "                        i = 0\n",
    "                        while found == False:\n",
    "                            if date_excel[i][0:2] == date[-2:] and treatment_excel[i] == metadata_dict['Treatment'][-1]:\n",
    "                                metadata_dict['Weather'].append(weather_excel[i])\n",
    "                                i = 0\n",
    "                                found = True\n",
    "                            else:\n",
    "                                i += 1\n",
    "                            if i == 50:\n",
    "                                metadata_dict['Weather'].append('Not Found')\n",
    "                                found = True\n",
    "                        if image.split('-')[-1] == 'single.loraw':\n",
    "                            metadata_dict['Video'].append('Single')\n",
    "                        else:\n",
    "                            metadata_dict['Video'].append('Video')\n",
    "                        metadata_dict['Frames'].append(len(f))\n",
    "                        for v in vars(metadata):\n",
    "                            if v == 'wavelengths' or v == 'sampling_coordinates':\n",
    "                                continue\n",
    "                            else:\n",
    "                                metadata_dict[v].append(getattr(metadata, v))\n",
    "                        break\n",
    "\n",
    " \n",
    "df = pd.DataFrame(metadata_dict)\n",
    "df.to_csv('Meta_Data.csv', index=False)\n"
   ]
  },
  {
   "cell_type": "code",
   "execution_count": null,
   "metadata": {},
   "outputs": [],
   "source": [
    "print(metadata_dict)"
   ]
  },
  {
   "cell_type": "code",
   "execution_count": null,
   "metadata": {},
   "outputs": [],
   "source": []
  }
 ],
 "metadata": {
  "kernelspec": {
   "display_name": "venv",
   "language": "python",
   "name": "python3"
  },
  "language_info": {
   "codemirror_mode": {
    "name": "ipython",
    "version": 3
   },
   "file_extension": ".py",
   "mimetype": "text/x-python",
   "name": "python",
   "nbconvert_exporter": "python",
   "pygments_lexer": "ipython3",
   "version": "3.11.9"
  }
 },
 "nbformat": 4,
 "nbformat_minor": 2
}
