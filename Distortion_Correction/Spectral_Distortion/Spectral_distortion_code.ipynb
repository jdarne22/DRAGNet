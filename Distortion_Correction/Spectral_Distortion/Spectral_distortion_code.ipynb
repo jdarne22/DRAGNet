{
 "cells": [
  {
   "cell_type": "code",
   "execution_count": 556,
   "metadata": {},
   "outputs": [],
   "source": [
    "from lo.sdk.api.acquisition.io.open import open\n",
    "from lo.sdk.api.acquisition.data.decode import SpectralDecoder\n",
    "from lo.sdk.api.acquisition.data.formats import LORAWtoRGB8\n",
    "\n",
    "import glob\n",
    "import matplotlib.pyplot as plt\n",
    "import numpy as np\n",
    "import os\n",
    "\n",
    "import cv2 as cv"
   ]
  },
  {
   "cell_type": "code",
   "execution_count": 557,
   "metadata": {},
   "outputs": [],
   "source": [
    "def load_image(index):\n",
    "    global img, hypercube, scene_view_shape, image\n",
    "    cv.destroyAllWindows()\n",
    "    image = images[index]\n",
    "    print(image)\n",
    "    hypercube = np.load(image)\n",
    "    lofile = image.split('-')\n",
    "    lofile.pop()\n",
    "    lofile = '-'.join(lofile) + '.loraw'\n",
    "    calibration_files = glob.glob('Spectral_images/' + 'calibration*.loraw')\n",
    "    factory_cali = os.path.expanduser('LO1_calibration_files/8_5mm')\n",
    "    decode = SpectralDecoder.from_calibration(factory_cali, calibration_files[0])\n",
    "    with open(lofile) as f:\n",
    "        for frame in f:\n",
    "            metadata, scene_view, spectra = decode(frame, scene_decoder=LORAWtoRGB8)\n",
    "            scene_view_shape = scene_view.shape[:2]\n",
    "            img = scene_view\n",
    "            slice_image = hypercube[:,:,95]\n",
    "            slice_image = cv.normalize(slice_image, None, 0, 255, cv.NORM_MINMAX).astype(np.uint8)\n",
    "            slice_image = cv.resize(slice_image, (scene_view_shape[1]-565, scene_view_shape[0]-140), interpolation=cv.INTER_LINEAR)\n",
    "            slice_image_shape = slice_image.shape[:2]\n",
    "            desired_width = scene_view_shape[1]\n",
    "            desired_height = scene_view_shape[0]\n",
    "            top = (desired_height - slice_image_shape[0]) // 2\n",
    "            bottom = desired_height - slice_image_shape[0] - top\n",
    "            left = (desired_width - slice_image_shape[1]) // 2\n",
    "            right = desired_width - slice_image_shape[1] - left\n",
    "\n",
    "            # Add black border to the image\n",
    "            slice_image = cv.copyMakeBorder(slice_image,top-20,bottom,left-40,right,cv.BORDER_CONSTANT,value=(0, 0, 0)  # Color of the border (black)\n",
    "                                             )\n",
    "\n",
    "\n",
    "            cv.imshow('Select Corners', scene_view)\n",
    "            cv.setMouseCallback('Select Corners', select_point)\n",
    "\n",
    "\n",
    "\n",
    "            #slice_image = cv.resize(slice_image, (2000, 2000), interpolation=cv.INTER_LINEAR)\n",
    "            cv.imshow('Spectral_image', slice_image)\n",
    "            break\n",
    "    "
   ]
  },
  {
   "cell_type": "code",
   "execution_count": 558,
   "metadata": {},
   "outputs": [],
   "source": [
    "def select_point(event, x, y, flags, param):\n",
    "    \"\"\"Handle mouse events to select points.\"\"\"\n",
    "    global points\n",
    "\n",
    "    if event == cv.EVENT_LBUTTONDOWN:\n",
    "        points.append((x, y))\n",
    "        cv.circle(img, (x, y), 5, (0, 0, 255), -1)  # Red dot for points\n",
    "        cv.imshow('Select Corners', img)\n",
    "\n",
    "        if len(points) % 4 == 0:\n",
    "            draw_square()\n",
    "            warp_and_resize_image()"
   ]
  },
  {
   "cell_type": "code",
   "execution_count": 559,
   "metadata": {},
   "outputs": [],
   "source": [
    "def draw_square():\n",
    "    \"\"\"Draw lines between the selected points.\"\"\"\n",
    "    for i in range(len(points)):\n",
    "        cv.line(img, points[i], points[(i + 1) % 4], (0, 255, 0), 1)  # Green lines\n",
    "    cv.imshow('Select Corners', img)"
   ]
  },
  {
   "cell_type": "code",
   "execution_count": 560,
   "metadata": {},
   "outputs": [],
   "source": [
    "def warp_and_resize_image():\n",
    "    \"\"\"Apply perspective transform and resize the image.\"\"\"\n",
    "    channels = hypercube.shape[2]\n",
    "    final_hypercube = np.zeros((scene_view_shape[1]-565, scene_view_shape[0]-140, channels))\n",
    "    for channel in range(channels):\n",
    "        slice_image = hypercube[:,:,channel]\n",
    "        slice_image = cv.normalize(slice_image, None, 0, 255, cv.NORM_MINMAX).astype(np.uint8)\n",
    "        slice_image = cv.resize(slice_image, (scene_view_shape[1]-565, scene_view_shape[0]-140), interpolation=cv.INTER_LINEAR)\n",
    "        slice_image_shape = slice_image.shape[:2]\n",
    "        desired_width = scene_view_shape[1]\n",
    "        desired_height = scene_view_shape[0]\n",
    "        top = (desired_height - slice_image_shape[0]) // 2\n",
    "        bottom = desired_height - slice_image_shape[0] - top\n",
    "        left = (desired_width - slice_image_shape[1]) // 2\n",
    "        right = desired_width - slice_image_shape[1] - left\n",
    "\n",
    "        # Add black border to the image\n",
    "        slice_image = cv.copyMakeBorder(slice_image,top-20,bottom,left-40,right,cv.BORDER_CONSTANT,value=(0, 0, 0)  # Color of the border (black)\n",
    "                                             )\n",
    "\n",
    "        src_pts = np.array(points, dtype='float32')\n",
    "        widthA = np.linalg.norm(np.array(src_pts[0]) - np.array(src_pts[1]))\n",
    "        widthB = np.linalg.norm(np.array(src_pts[2]) - np.array(src_pts[3]))\n",
    "        maxWidth = max(int(widthA), int(widthB))\n",
    "        heightA = np.linalg.norm(np.array(src_pts[0]) - np.array(src_pts[3]))\n",
    "        heightB = np.linalg.norm(np.array(src_pts[1]) - np.array(src_pts[2]))\n",
    "        maxHeight = max(int(heightA), int(heightB))\n",
    "        dst_pts = np.array([[0, 0], [maxWidth - 1, 0], [maxWidth - 1, maxHeight - 1], [0, maxHeight - 1]], dtype='float32')\n",
    "        M = cv.getPerspectiveTransform(src_pts, dst_pts)\n",
    "        warped = cv.warpPerspective(slice_image, M, (maxWidth, maxHeight))\n",
    "        final_hypercube[:,:,channel] = warped\n",
    "    cv.imshow('Resized Image', warped)\n",
    "    np.save(os.path.join('Spectral_images/Warped_spectral/', image.split('/')[1].split('.')[0] + '-warped.npy'),final_hypercube)\n"
   ]
  },
  {
   "cell_type": "code",
   "execution_count": 561,
   "metadata": {},
   "outputs": [],
   "source": [
    "def handle_key(event):\n",
    "    global current_index\n",
    "    if event == 2:  # Left arrow key\n",
    "        if current_index > 0:\n",
    "            current_index -= 1\n",
    "            load_image(current_index)\n",
    "    elif event == 3:  # Right arrow key\n",
    "        if current_index < len(images) - 1:\n",
    "            current_index += 1\n",
    "            load_image(current_index)\n",
    "        else:\n",
    "            print(\"End of images\")"
   ]
  },
  {
   "cell_type": "code",
   "execution_count": 562,
   "metadata": {},
   "outputs": [
    {
     "name": "stdout",
     "output_type": "stream",
     "text": [
      "Spectral_images/Bkbnpkq2CA-20240627-114001-108267-enhanced.npy\n"
     ]
    },
    {
     "ename": "ValueError",
     "evalue": "could not broadcast input array from shape (1823,1836) into shape (1867,1908)",
     "output_type": "error",
     "traceback": [
      "\u001b[0;31m---------------------------------------------------------------------------\u001b[0m",
      "\u001b[0;31mValueError\u001b[0m                                Traceback (most recent call last)",
      "Cell \u001b[0;32mIn[558], line 12\u001b[0m, in \u001b[0;36mselect_point\u001b[0;34m(event, x, y, flags, param)\u001b[0m\n\u001b[1;32m     10\u001b[0m \u001b[38;5;28;01mif\u001b[39;00m \u001b[38;5;28mlen\u001b[39m(points) \u001b[38;5;241m%\u001b[39m \u001b[38;5;241m4\u001b[39m \u001b[38;5;241m==\u001b[39m \u001b[38;5;241m0\u001b[39m:\n\u001b[1;32m     11\u001b[0m     draw_square()\n\u001b[0;32m---> 12\u001b[0m     \u001b[43mwarp_and_resize_image\u001b[49m\u001b[43m(\u001b[49m\u001b[43m)\u001b[49m\n",
      "Cell \u001b[0;32mIn[560], line 31\u001b[0m, in \u001b[0;36mwarp_and_resize_image\u001b[0;34m()\u001b[0m\n\u001b[1;32m     29\u001b[0m     M \u001b[38;5;241m=\u001b[39m cv\u001b[38;5;241m.\u001b[39mgetPerspectiveTransform(src_pts, dst_pts)\n\u001b[1;32m     30\u001b[0m     warped \u001b[38;5;241m=\u001b[39m cv\u001b[38;5;241m.\u001b[39mwarpPerspective(slice_image, M, (maxWidth, maxHeight))\n\u001b[0;32m---> 31\u001b[0m     \u001b[43mfinal_hypercube\u001b[49m\u001b[43m[\u001b[49m\u001b[43m:\u001b[49m\u001b[43m,\u001b[49m\u001b[43m:\u001b[49m\u001b[43m,\u001b[49m\u001b[43mchannel\u001b[49m\u001b[43m]\u001b[49m \u001b[38;5;241m=\u001b[39m warped\n\u001b[1;32m     32\u001b[0m cv\u001b[38;5;241m.\u001b[39mimshow(\u001b[38;5;124m'\u001b[39m\u001b[38;5;124mResized Image\u001b[39m\u001b[38;5;124m'\u001b[39m, warped)\n\u001b[1;32m     33\u001b[0m np\u001b[38;5;241m.\u001b[39msave(os\u001b[38;5;241m.\u001b[39mpath\u001b[38;5;241m.\u001b[39mjoin(\u001b[38;5;124m'\u001b[39m\u001b[38;5;124mSpectral_images/Warped_spectral/\u001b[39m\u001b[38;5;124m'\u001b[39m, image\u001b[38;5;241m.\u001b[39msplit(\u001b[38;5;124m'\u001b[39m\u001b[38;5;124m/\u001b[39m\u001b[38;5;124m'\u001b[39m)[\u001b[38;5;241m1\u001b[39m]\u001b[38;5;241m.\u001b[39msplit(\u001b[38;5;124m'\u001b[39m\u001b[38;5;124m.\u001b[39m\u001b[38;5;124m'\u001b[39m)[\u001b[38;5;241m0\u001b[39m] \u001b[38;5;241m+\u001b[39m \u001b[38;5;124m'\u001b[39m\u001b[38;5;124m-warped.npy\u001b[39m\u001b[38;5;124m'\u001b[39m),final_hypercube)\n",
      "\u001b[0;31mValueError\u001b[0m: could not broadcast input array from shape (1823,1836) into shape (1867,1908)"
     ]
    },
    {
     "data": {
      "text/plain": [
       "-1"
      ]
     },
     "execution_count": 562,
     "metadata": {},
     "output_type": "execute_result"
    }
   ],
   "source": [
    "images = glob.glob('Spectral_images/' + '*.npy')\n",
    "current_index = 0\n",
    "points = []\n",
    "\n",
    "# Load the first image\n",
    "load_image(current_index)\n",
    "\n",
    "cv.setMouseCallback('Select Corners', select_point)\n",
    "\n",
    "while True:\n",
    "    key = cv.waitKey(0) & 0xFF\n",
    "    if key == 27:  # ESC key to exit\n",
    "        break\n",
    "    elif key in [2, 3]:  # Arrow keys\n",
    "        points = []\n",
    "        handle_key(key)\n",
    "\n",
    "cv.destroyAllWindows()\n",
    "cv.waitKey(1)\n",
    "\n",
    "\n",
    "\n",
    "\n",
    "\n",
    "    "
   ]
  },
  {
   "cell_type": "code",
   "execution_count": null,
   "metadata": {},
   "outputs": [],
   "source": []
  }
 ],
 "metadata": {
  "kernelspec": {
   "display_name": "venv",
   "language": "python",
   "name": "python3"
  },
  "language_info": {
   "codemirror_mode": {
    "name": "ipython",
    "version": 3
   },
   "file_extension": ".py",
   "mimetype": "text/x-python",
   "name": "python",
   "nbconvert_exporter": "python",
   "pygments_lexer": "ipython3",
   "version": "3.11.9"
  }
 },
 "nbformat": 4,
 "nbformat_minor": 2
}
