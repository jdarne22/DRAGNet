{
 "cells": [
  {
   "cell_type": "code",
   "execution_count": 67,
   "metadata": {},
   "outputs": [],
   "source": [
    "import glob\n",
    "import cv2 as cv\n",
    "import numpy as np\n",
    "import matplotlib.pyplot as plt"
   ]
  },
  {
   "cell_type": "code",
   "execution_count": 68,
   "metadata": {},
   "outputs": [],
   "source": [
    "def load_image(index):\n",
    "    global img, original_image\n",
    "    cv.destroyAllWindows()\n",
    "    img = cv.imread(images[index])\n",
    "    if img is None:\n",
    "        print(\"Error: Image not found or unable to load.\")\n",
    "        return\n",
    "    original_image = img.copy()\n",
    "    cv.imshow('Select Corners', img)\n",
    "    # Set the mouse callback function\n",
    "    cv.setMouseCallback('Select Corners', select_point)"
   ]
  },
  {
   "cell_type": "code",
   "execution_count": 69,
   "metadata": {},
   "outputs": [],
   "source": [
    "# Mouse callback function\n",
    "def select_point(event, x, y, flags, param):\n",
    "    global points\n",
    "    if event == cv.EVENT_LBUTTONDOWN:\n",
    "        # Store the point coordinates\n",
    "        points.append((x, y))\n",
    "        # Draw a small circle at the selected point\n",
    "        cv.circle(img, (x, y), 20, (0, 0, 255), -1)  # Red dot for points\n",
    "        cv.imshow('Select Corners', img)\n",
    "\n",
    "        # Automatically draw lines if four points have been selected\n",
    "        if len(points) == 4:\n",
    "            draw_square()\n",
    "            warp_image()\n"
   ]
  },
  {
   "cell_type": "code",
   "execution_count": 70,
   "metadata": {},
   "outputs": [],
   "source": [
    "def draw_square():\n",
    "    # Draw lines between the four selected points\n",
    "    for i in range(len(points)):\n",
    "        # Draw a line between each consecutive point\n",
    "        cv.line(img, points[i], points[(i + 1) % 4], (0, 255, 0), 2)  # Green lines\n",
    "    cv.imshow('Select Corners', img)"
   ]
  },
  {
   "cell_type": "code",
   "execution_count": 71,
   "metadata": {},
   "outputs": [],
   "source": [
    "def warp_image():\n",
    "    # Convert points to numpy array\n",
    "    src_pts = np.array(points, dtype='float32')\n",
    "\n",
    "    # Calculate the width and height of the new image\n",
    "    widthA = np.linalg.norm(src_pts[0] - src_pts[1])\n",
    "    widthB = np.linalg.norm(src_pts[2] - src_pts[3])\n",
    "    maxWidth = max(int(widthA), int(widthB))\n",
    "\n",
    "    heightA = np.linalg.norm(src_pts[0] - src_pts[3])\n",
    "    heightB = np.linalg.norm(src_pts[1] - src_pts[2])\n",
    "    maxHeight = max(int(heightA), int(heightB))\n",
    "\n",
    "    # Define destination points for perspective transform\n",
    "    dst_pts = np.array([[0, 0], [maxWidth - 1, 0], [maxWidth - 1, maxHeight - 1], [0, maxHeight - 1]], dtype='float32')\n",
    "\n",
    "    # Compute the perspective transform matrix\n",
    "    M = cv.getPerspectiveTransform(src_pts, dst_pts)\n",
    "\n",
    "    # Apply the perspective transformation\n",
    "    warped = cv.warpPerspective(original_image, M, (maxWidth, maxHeight))\n",
    "\n",
    "    # Resize the image to 3500x3500 pixels\n",
    "    warped = cv.resize(warped, (3500, 3500), interpolation=cv.INTER_LINEAR)\n",
    "\n",
    "\n",
    "    # Rotate the image 90 degrees anticlockwise\n",
    "    #warped = cv.rotate(warped, cv.ROTATE_90_COUNTERCLOCKWISE)\n",
    "\n",
    "    # Show the warped image\n",
    "    cv.imshow('Warped Image', warped)\n",
    "    image = images[current_index]\n",
    "    cv.imwrite(image.split('.')[0] + '-warped.jpg', warped)\n",
    "    "
   ]
  },
  {
   "cell_type": "code",
   "execution_count": 72,
   "metadata": {},
   "outputs": [
    {
     "data": {
      "text/plain": [
       "-1"
      ]
     },
     "execution_count": 72,
     "metadata": {},
     "output_type": "execute_result"
    }
   ],
   "source": [
    "images = glob.glob('Images/*.JPG')\n",
    "current_index = 0\n",
    "points = []\n",
    "\n",
    "def handle_key(event):\n",
    "    global current_index\n",
    "    if event == 2:  # Left arrow key\n",
    "        if current_index > 0:\n",
    "            current_index -= 1\n",
    "            load_image(current_index)\n",
    "    elif event == 3:  # Right arrow key\n",
    "        if current_index < len(images) - 1:\n",
    "            current_index += 1\n",
    "            load_image(current_index)\n",
    "        else:\n",
    "            print(\"End of images\")\n",
    "\n",
    "# Load the first image\n",
    "load_image(current_index)\n",
    "\n",
    "# Set the mouse callback function\n",
    "cv.setMouseCallback('Select Corners', select_point)\n",
    "\n",
    "# Main loop\n",
    "while True:\n",
    "    key = cv.waitKey(0) & 0xFF\n",
    "    if key == 27:  # ESC key to exit\n",
    "        break\n",
    "    elif key in [2, 3]:  # Arrow keys\n",
    "        points = []\n",
    "        handle_key(key)\n",
    "\n",
    "cv.destroyAllWindows()\n",
    "cv.waitKey(1)\n",
    "\n",
    "##PRESS RIGHT ARROW KEY TO GO TO NEXT IMAGE\n",
    "##PRESS LEFT ARROW KEY TO GO TO PREVIOUS IMAGE\n",
    "##PRESS ESC TO EXIT\n",
    "##PRESS MOUSE LEFT CLICK TO SELECT 4 POINTS STARTING WITH TOP LEFT CORNER OF THE IMAGE AND GOING CLOCKWISE"
   ]
  }
 ],
 "metadata": {
  "kernelspec": {
   "display_name": "venv",
   "language": "python",
   "name": "python3"
  },
  "language_info": {
   "codemirror_mode": {
    "name": "ipython",
    "version": 3
   },
   "file_extension": ".py",
   "mimetype": "text/x-python",
   "name": "python",
   "nbconvert_exporter": "python",
   "pygments_lexer": "ipython3",
   "version": "3.11.9"
  }
 },
 "nbformat": 4,
 "nbformat_minor": 2
}
